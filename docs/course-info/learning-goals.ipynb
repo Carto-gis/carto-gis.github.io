{
 "cells": [
  {
   "cell_type": "markdown",
   "id": "143463e8-d8a9-4ad2-ae69-322af9287bc4",
   "metadata": {},
   "source": [
    "# Learning goals"
   ]
  },
  {
   "cell_type": "markdown",
   "id": "6f8b4a8e-f5dd-43ea-904a-8a991bcd7905",
   "metadata": {},
   "source": [
    "Below you find the intended learning outcomes after each study week. Please use this table to monitor your learning progress: you can always go back to revisit a previous week’s material.\n",
    "\n",
    "**After week 1, you should be able to:**\n",
    "* Grasp the evolution of cartographic theory and its connection to contemporary map-making.\n",
    "* Comprehend map design and color theory, applying these to create compelling and effective visual representations.\n",
    "* View cartography not only as a technical skill but also as an artistic endeavor.\n",
    "\n",
    "**After week 2, you should be able to:**\n",
    "* Understand how new technologies and the advent of big data have transformed cartography.\n",
    "* Recognize the importance of coordinate systems and map projections in crafting accurate maps.\n",
    "* Identify design elements that aesthetically enhance maps.\n",
    "* Produce various types of maps to visualize dense point data, including point maps, grid maps, and heatmaps.\n",
    "* Create visually appealing global static maps.\n",
    "* Acknowledge that geospatial data can be visualized in non-cartographic forms.\n",
    "\n",
    "**After week 3, you should be able to:**\n",
    "* Understand the art of storytelling with geospatial data.\n",
    "* Grasp the principles of critical cartography.\n",
    "* Visualize large-scale geospatial data.\n",
    "\n",
    "**After week 4, you should be able to:**\n",
    "* Understand and mitigate the effects of map media on cartographic design.\n",
    "* Create interactive visualizations.\n",
    "* Publish your interactive maps online.\n",
    "* Be aware of future trends in cartography.\n",
    "* Narrate a geospatial story using a diverse range of media, methods, and tools.\n"
   ]
  },
  {
   "cell_type": "code",
   "execution_count": null,
   "id": "e6993ca9-26d7-42f6-b658-7da6dc95e05a",
   "metadata": {},
   "outputs": [],
   "source": []
  }
 ],
 "metadata": {
  "kernelspec": {
   "display_name": "Python 3 (ipykernel)",
   "language": "python",
   "name": "python3"
  },
  "language_info": {
   "codemirror_mode": {
    "name": "ipython",
    "version": 3
   },
   "file_extension": ".py",
   "mimetype": "text/x-python",
   "name": "python",
   "nbconvert_exporter": "python",
   "pygments_lexer": "ipython3",
   "version": "3.11.7"
  }
 },
 "nbformat": 4,
 "nbformat_minor": 5
}
