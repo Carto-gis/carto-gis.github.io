{
 "cells": [
  {
   "cell_type": "markdown",
   "id": "ddc0d38c-bd5c-432f-902a-c09cac3099fb",
   "metadata": {},
   "source": [
    "# This is my title"
   ]
  },
  {
   "cell_type": "markdown",
   "id": "69fca4c9-af3f-4650-882b-8c2acfd46d33",
   "metadata": {},
   "source": [
    "This is a test notebook.................................................................................................................................................................................................................................................................."
   ]
  },
  {
   "cell_type": "code",
   "execution_count": null,
   "id": "a0121ce3-0395-4360-9351-ecbb67249c8b",
   "metadata": {},
   "outputs": [],
   "source": [
    "import geopandas as gpd"
   ]
  },
  {
   "cell_type": "code",
   "execution_count": null,
   "id": "1927f57e-e268-41ca-8429-f99e731dfa88",
   "metadata": {},
   "outputs": [],
   "source": [
    "print(\"Hello there!\")"
   ]
  }
 ],
 "metadata": {
  "kernelspec": {
   "display_name": "Python 3 (ipykernel)",
   "language": "python",
   "name": "python3"
  },
  "language_info": {
   "codemirror_mode": {
    "name": "ipython",
    "version": 3
   },
   "file_extension": ".py",
   "mimetype": "text/x-python",
   "name": "python",
   "nbconvert_exporter": "python",
   "pygments_lexer": "ipython3",
   "version": "3.10.12"
  }
 },
 "nbformat": 4,
 "nbformat_minor": 5
}
