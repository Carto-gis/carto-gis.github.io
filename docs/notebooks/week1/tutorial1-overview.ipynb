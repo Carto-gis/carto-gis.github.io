{
 "cells": [
  {
   "cell_type": "markdown",
   "id": "37653921-5015-42a2-a675-03552f153a3e",
   "metadata": {},
   "source": [
    "# Tutorial 1: overview\n",
    "\n",
    "This week we work with colors, projections, and get started with making some simple static maps. "
   ]
  },
  {
   "cell_type": "markdown",
   "id": "062d30fe-8ec9-4757-b978-67d92e92e57e",
   "metadata": {},
   "source": [
    "## Video recording\n",
    "\n",
    "The recorded tutorial will be uploaded here following the session. "
   ]
  }
 ],
 "metadata": {
  "kernelspec": {
   "display_name": "Python 3 (ipykernel)",
   "language": "python",
   "name": "python3"
  },
  "language_info": {
   "codemirror_mode": {
    "name": "ipython",
    "version": 3
   },
   "file_extension": ".py",
   "mimetype": "text/x-python",
   "name": "python",
   "nbconvert_exporter": "python",
   "pygments_lexer": "ipython3",
   "version": "3.11.7"
  }
 },
 "nbformat": 4,
 "nbformat_minor": 5
}
