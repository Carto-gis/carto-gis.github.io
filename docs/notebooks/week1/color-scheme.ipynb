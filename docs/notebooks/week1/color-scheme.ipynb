{
 "cells": [
  {
   "cell_type": "markdown",
   "id": "ca46349b-d336-4a64-95c1-8abe2728726c",
   "metadata": {},
   "source": [
    "### Discussion and Exploration\n",
    "\n",
    "Let's compare the color schemes and discuss around the following aspects:\n",
    "\n",
    "- **Data Suitability**: How well does the color scheme convey the nature of the data? Is it sequential, diverging, or qualitative?\n",
    "- **Visual Perception**: Does the color scheme offer a perceptually uniform progression, making it easy to interpret changes in data values?\n",
    "- **Accessibility**: How accessible is the color scheme for people with color vision deficiencies?\n",
    "- **Emotional Impact**: Do certain colors evoke specific emotions or cultural associations that could influence the interpretation of the data?"
   ]
  },
  {
   "cell_type": "code",
   "execution_count": 8,
   "id": "4d2746fa-38dc-4a04-89cd-a0d205eac8ba",
   "metadata": {},
   "outputs": [
    {
     "data": {
      "application/vnd.jupyter.widget-view+json": {
       "model_id": "e5d72cfbac64417f98b9b92e1c99c706",
       "version_major": 2,
       "version_minor": 0
      },
      "text/plain": [
       "Dropdown(description='Color Scheme:', options=('viridis', 'plasma', 'inferno', 'magma', 'cividis', 'coolwarm',…"
      ]
     },
     "metadata": {},
     "output_type": "display_data"
    },
    {
     "data": {
      "application/vnd.jupyter.widget-view+json": {
       "model_id": "ea6042451f334bc5b300b888eba13e6c",
       "version_major": 2,
       "version_minor": 0
      },
      "text/plain": [
       "Output()"
      ]
     },
     "metadata": {},
     "output_type": "display_data"
    }
   ],
   "source": [
    "import geopandas as gpd\n",
    "import matplotlib.pyplot as plt\n",
    "import ipywidgets as widgets\n",
    "from IPython.display import display\n",
    "\n",
    "# Load the GeoPackage data\n",
    "data_path = 'data/helsinki_region_travel_times_to_railway_station.gpkg'  # Update this path\n",
    "gdf = gpd.read_file(data_path)\n",
    "\n",
    "# Create the dropdown widget for color scheme selection\n",
    "color_dropdown = widgets.Dropdown(\n",
    "    options=['viridis', 'plasma', 'inferno', 'magma', 'cividis'],\n",
    "    value='viridis',\n",
    "    description='Color Scheme:',\n",
    ")\n",
    "\n",
    "# Create an output widget to manage the plot output\n",
    "color_dropdown = widgets.Dropdown(\n",
    "    options=[\n",
    "        'viridis', 'plasma', 'inferno', 'magma', 'cividis', \n",
    "        'coolwarm', 'Spectral', 'spring', 'summer', 'autumn', \n",
    "        'winter', 'Wistia', 'hot', 'afmhot', 'gist_heat', \n",
    "        'copper', 'PiYG', 'PRGn', 'BrBG', 'PuOr', \n",
    "        'RdGy', 'RdBu', 'RdYlBu', 'RdYlGn', 'Spectral', \n",
    "        'cool', 'warm', 'rainbow', 'jet', 'hsv'\n",
    "    ],\n",
    "    value='viridis',\n",
    "    description='Color Scheme:',\n",
    ")\n",
    "\n",
    "# Create an output widget to manage the plot output\n",
    "plot_output = widgets.Output()\n",
    "\n",
    "def plot_map(color_scheme):\n",
    "    with plot_output:\n",
    "        clear_output(wait=True)  # Clear the previous plot\n",
    "        fig, ax = plt.subplots(figsize=(10, 10))\n",
    "        gdf.plot(column='pt_r_t', cmap=color_scheme, legend=True, ax=ax)\n",
    "        plt.title(f'Helsinki Region Travel Times with \"{color_scheme}\" Color Scheme')\n",
    "        plt.show()\n",
    "\n",
    "def on_color_change(change):\n",
    "    plot_map(change.new)\n",
    "\n",
    "color_dropdown.observe(on_color_change, names='value')\n",
    "\n",
    "# Display the widgets\n",
    "display(color_dropdown, plot_output)"
   ]
  },
  {
   "cell_type": "code",
   "execution_count": null,
   "id": "cee6d3cc-a10e-4d66-a0e7-1b10cbca5a3d",
   "metadata": {},
   "outputs": [],
   "source": []
  }
 ],
 "metadata": {
  "kernelspec": {
   "display_name": "Python 3 (ipykernel)",
   "language": "python",
   "name": "python3"
  },
  "language_info": {
   "codemirror_mode": {
    "name": "ipython",
    "version": 3
   },
   "file_extension": ".py",
   "mimetype": "text/x-python",
   "name": "python",
   "nbconvert_exporter": "python",
   "pygments_lexer": "ipython3",
   "version": "3.11.7"
  }
 },
 "nbformat": 4,
 "nbformat_minor": 5
}
