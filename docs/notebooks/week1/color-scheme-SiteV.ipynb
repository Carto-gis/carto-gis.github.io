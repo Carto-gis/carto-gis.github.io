{
 "cells": [
  {
   "cell_type": "markdown",
   "id": "ca46349b-d336-4a64-95c1-8abe2728726c",
   "metadata": {
    "editable": true,
    "slideshow": {
     "slide_type": ""
    },
    "tags": []
   },
   "source": [
    "### Discussion and Exploration\n",
    "\n",
    "Let's compare the color schemes and discuss around the following aspects:\n",
    "\n",
    "- **Data Suitability**: How well does the color scheme convey the nature of the data? Is it sequential, diverging, or qualitative?\n",
    "- **Visual Perception**: Does the color scheme offer a perceptually uniform progression, making it easy to interpret changes in data values?\n",
    "- **Accessibility**: How accessible is the color scheme for people with color vision deficiencies?\n",
    "- **Emotional Impact**: Do certain colors evoke specific emotions or cultural associations that could influence the interpretation of the data?"
   ]
  },
  {
   "cell_type": "markdown",
   "id": "bba0a793-155c-4f52-b16c-756e8164832d",
   "metadata": {
    "editable": true,
    "slideshow": {
     "slide_type": ""
    },
    "tags": []
   },
   "source": [
    "<div style=\"background-color: #ffffcc; border-left: 6px solid #ffeb3b; padding: 0.5em;\">\n",
    "  <strong>Attention:</strong> This section includes executable parts which need to be run in Jupyter Lab Environment.\n",
    "</div>\n"
   ]
  },
  {
   "cell_type": "markdown",
   "id": "b33f549f-3b82-41df-800e-503179fedc9f",
   "metadata": {
    "editable": true,
    "slideshow": {
     "slide_type": ""
    },
    "tags": []
   },
   "source": [
    "![color-scheme-preview](static/images/color-scheme.png \"Interactive content preview\")"
   ]
  },
  {
   "cell_type": "code",
   "execution_count": null,
   "id": "0fa394c9-524c-43fd-9f05-7ce3a080d242",
   "metadata": {
    "editable": true,
    "slideshow": {
     "slide_type": ""
    },
    "tags": []
   },
   "outputs": [],
   "source": []
  }
 ],
 "metadata": {
  "kernelspec": {
   "display_name": "Python 3 (ipykernel)",
   "language": "python",
   "name": "python3"
  },
  "language_info": {
   "codemirror_mode": {
    "name": "ipython",
    "version": 3
   },
   "file_extension": ".py",
   "mimetype": "text/x-python",
   "name": "python",
   "nbconvert_exporter": "python",
   "pygments_lexer": "ipython3",
   "version": "3.11.7"
  }
 },
 "nbformat": 4,
 "nbformat_minor": 5
}
