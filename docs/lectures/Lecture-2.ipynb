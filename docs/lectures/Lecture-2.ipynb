{
 "cells": [
  {
   "cell_type": "markdown",
   "id": "93e06f98-9a04-48b1-ad26-3ec913322b7a",
   "metadata": {
    "editable": true,
    "slideshow": {
     "slide_type": ""
    },
    "tags": []
   },
   "source": [
    "# Lesson 2: Visual hierarchy and colors"
   ]
  },
  {
   "cell_type": "markdown",
   "id": "8b435458-bb2c-4bc7-aa12-17056bbcd664",
   "metadata": {
    "editable": true,
    "slideshow": {
     "slide_type": ""
    },
    "tags": []
   },
   "source": [
    "Main topics:\n",
    "\n",
    "- Visual hierarchy in cartography\n",
    "- Colours in cartography\n",
    "\n",
    "\n",
    "\n",
    "## Lecture slides\n",
    "\n",
    "<iframe src=\"https://docs.google.com/presentation/d/e/2PACX-1vRB7wHAlrPZxU49Fx--tQ-cObolyKMaMo207EQtY6mXxDuaiqCTJTmir7kXk8I-mA/embed?start=false&loop=false&delayms=60000\" frameborder=\"0\" width=\"640\" height=\"374.5\" allowfullscreen=\"true\" mozallowfullscreen=\"true\" webkitallowfullscreen=\"true\"></iframe> \n",
    "\n",
    "## Video recording\n",
    "\n",
    "<iframe width=\"560\" height=\"315\" src=\"https://www.youtube.com/embed/BMwM6_30bwQ?si=o3dDUXumpcGLJ3rW\" title=\"YouTube video player\" frameborder=\"0\" allow=\"accelerometer; autoplay; clipboard-write; encrypted-media; gyroscope; picture-in-picture; web-share\" referrerpolicy=\"strict-origin-when-cross-origin\" allowfullscreen></iframe>"
   ]
  },
  {
   "cell_type": "code",
   "execution_count": null,
   "outputs": [],
   "source": [],
   "metadata": {
    "collapsed": false
   },
   "id": "f45ba31000e3c4f1"
  }
 ],
 "metadata": {
  "kernelspec": {
   "display_name": "Python 3 (ipykernel)",
   "language": "python",
   "name": "python3"
  },
  "language_info": {
   "codemirror_mode": {
    "name": "ipython",
    "version": 3
   },
   "file_extension": ".py",
   "mimetype": "text/x-python",
   "name": "python",
   "nbconvert_exporter": "python",
   "pygments_lexer": "ipython3",
   "version": "3.11.7"
  }
 },
 "nbformat": 4,
 "nbformat_minor": 5
}
